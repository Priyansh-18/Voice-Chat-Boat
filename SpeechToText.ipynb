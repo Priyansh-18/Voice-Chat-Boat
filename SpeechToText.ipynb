{
 "cells": [
  {
   "cell_type": "code",
   "execution_count": 1,
   "id": "3ec09e64",
   "metadata": {},
   "outputs": [],
   "source": [
    "from google.cloud import speech\n"
   ]
  },
  {
   "cell_type": "code",
   "execution_count": 2,
   "id": "763ab22e",
   "metadata": {},
   "outputs": [
    {
     "name": "stdout",
     "output_type": "stream",
     "text": [
      "results {\n",
      "  alternatives {\n",
      "    transcript: \"Hi guys and welcome back to another blog. I\\'m sitting here from my bookshelf, it\\'s one of my favorite things in the world.\"\n",
      "    confidence: 0.9071437\n",
      "  }\n",
      "  result_end_time {\n",
      "    seconds: 7\n",
      "    nanos: 960000000\n",
      "  }\n",
      "  language_code: \"en-us\"\n",
      "}\n",
      "total_billed_time {\n",
      "  seconds: 8\n",
      "}\n",
      "request_id: 7785471963535748793\n",
      "\n"
     ]
    }
   ],
   "source": [
    "client = speech.SpeechClient.from_service_account_file('oauth-key.json')\n",
    "file_name = \"X2.mp3\"\n",
    "\n",
    "with open(file_name, 'rb') as f:\n",
    "    mp3_data = f.read()\n",
    "    \n",
    "audio_file = speech.RecognitionAudio(content=mp3_data)\n",
    "\n",
    "config = speech.RecognitionConfig(\n",
    "    sample_rate_hertz=44100,\n",
    "    enable_automatic_punctuation=True,\n",
    "    language_code='en-US'\n",
    ")\n",
    "\n",
    "response = client.recognize(\n",
    "    config=config,\n",
    "    audio=audio_file\n",
    ")\n",
    "\n",
    "print(response)"
   ]
  },
  {
   "cell_type": "code",
   "execution_count": 5,
   "id": "171f81ce",
   "metadata": {},
   "outputs": [
    {
     "name": "stdout",
     "output_type": "stream",
     "text": [
      "Transcript: Hi guys and welcome back to another blog. I'm sitting here from my bookshelf, it's one of my favorite things in the world.\n"
     ]
    }
   ],
   "source": [
    "for result in response.results:\n",
    "    print(\"Transcript: {}\".format(result.alternatives[0].transcript))"
   ]
  },
  {
   "cell_type": "code",
   "execution_count": 6,
   "id": "a8cdcf68",
   "metadata": {},
   "outputs": [
    {
     "data": {
      "text/plain": [
       "\"Hi guys and welcome back to another blog. I'm sitting here from my bookshelf, it's one of my favorite things in the world.\""
      ]
     },
     "execution_count": 6,
     "metadata": {},
     "output_type": "execute_result"
    }
   ],
   "source": [
    "transcript = result.alternatives[0].transcript\n",
    "transcript"
   ]
  },
  {
   "cell_type": "code",
   "execution_count": null,
   "id": "302afbc9",
   "metadata": {},
   "outputs": [],
   "source": []
  }
 ],
 "metadata": {
  "kernelspec": {
   "display_name": "Python 3 (ipykernel)",
   "language": "python",
   "name": "python3"
  },
  "language_info": {
   "codemirror_mode": {
    "name": "ipython",
    "version": 3
   },
   "file_extension": ".py",
   "mimetype": "text/x-python",
   "name": "python",
   "nbconvert_exporter": "python",
   "pygments_lexer": "ipython3",
   "version": "3.10.9"
  }
 },
 "nbformat": 4,
 "nbformat_minor": 5
}
